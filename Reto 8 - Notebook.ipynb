{
 "cells": [
  {
   "cell_type": "markdown",
   "metadata": {},
   "source": [
    "## Reto ocho"
   ]
  },
  {
   "cell_type": "markdown",
   "metadata": {},
   "source": [
    "### Codigo numero 1\n",
    "\n",
    "- Imprimir un listado con los números del 1 al 100 cada uno con su respectivo cuadrado.\n"
   ]
  },
  {
   "cell_type": "code",
   "execution_count": null,
   "metadata": {},
   "outputs": [],
   "source": [
    "# Definimos el rango de los numeros cuyos cuadradados encontraremos\n",
    "for i in range(1, 101):\n",
    "    cuadrado = i**2\n",
    "    print(\"El numero \" + str(i) + \" elevado al cuadrado es: \" + str(cuadrado))"
   ]
  },
  {
   "cell_type": "markdown",
   "metadata": {},
   "source": [
    "### Codigo numero 2\n",
    "\n",
    "- Imprimir un listado con los números impares desde 1 hasta 999 y seguidamente otro listado con los números pares desde 2 hasta 1000."
   ]
  },
  {
   "cell_type": "code",
   "execution_count": null,
   "metadata": {},
   "outputs": [],
   "source": [
    "\n",
    "# Definimos el rango de los numeros impares (de 1 a 999, de 2 en 2)\n",
    "for i in range(1, 1000, 2):\n",
    "    print(\"Numeros impares: \" + str(i))\n",
    "\n",
    "# Definimos el rango de los numeros pares (de 2 a 1000, de 2 en 2)\n",
    "for i in range(2, 1001, 2):\n",
    "    print(\"Numeros pares: \" + str(i))"
   ]
  },
  {
   "cell_type": "markdown",
   "metadata": {},
   "source": [
    "### Codigo numero 3\n",
    "\n",
    "- Imprimir los números pares en forma descendente hasta 2 que son menores o iguales a un número natural n ≥ 2 dado."
   ]
  },
  {
   "cell_type": "code",
   "execution_count": null,
   "metadata": {},
   "outputs": [],
   "source": [
    "# Definir desde que valor se evaluara la condicion\n",
    "n: int = 50\n",
    "\n",
    "# Definir la condicion del bucle\n",
    "while n >= 2:\n",
    "    if n % 2 == 0:\n",
    "        print(n)\n",
    "    n -= 2\n",
    "    print(str(n))"
   ]
  },
  {
   "cell_type": "markdown",
   "metadata": {},
   "source": [
    "### Codigo numero 4\n",
    "\n",
    "- Imprimir los números de 1 hasta un número natural n dado, cada uno con su respectivo factorial."
   ]
  },
  {
   "cell_type": "code",
   "execution_count": null,
   "metadata": {},
   "outputs": [],
   "source": [
    "# Leer un numero natural\n",
    "n = int(input(\"Ingrese un numero natural: \"))\n",
    "\n",
    "# Definimos el rango para el numero natural\n",
    "factorial : int = 1\n",
    "for i in range(1, n+1):\n",
    "  factorial *= i\n",
    "print(\"El factorial del numeroo \" + str(n) + \" es \" + str(factorial))"
   ]
  },
  {
   "cell_type": "markdown",
   "metadata": {},
   "source": [
    "\n",
    "### Codigo numero 5\n",
    "\n",
    "- Calcular el valor de 2 elevado a la potencia n usando ciclos for."
   ]
  },
  {
   "cell_type": "code",
   "execution_count": null,
   "metadata": {},
   "outputs": [],
   "source": [
    "# Leer un numero de potencia para dos\n",
    "n = int(input(\"Ingrese numero de potencia: \"))\n",
    "\n",
    "# Definir el rango en el que se evaluara 2 elevado a la potencia dada\n",
    "for i in range(1, n+1):\n",
    "    i = 2**n\n",
    "print(\"La potencia de 2 elevado a \" +str(n) + \" es: \" + str(i))"
   ]
  },
  {
   "cell_type": "markdown",
   "metadata": {},
   "source": [
    "### Codigo numero 6\n",
    "\n",
    "- Leer un número natural n, leer otro dato de tipo real x y calcular x^n usando ciclos for. Disclaimer: Trate de no utilizar el operador de potencia (**).\n"
   ]
  },
  {
   "cell_type": "code",
   "execution_count": null,
   "metadata": {},
   "outputs": [],
   "source": [
    "# Definir ambas variables, un numero natural y un numero real\n",
    "n = int(input(\"Ingrese un número natural: \"))\n",
    "x = float(input(\"Ingrese un real: \"))\n",
    "\n",
    "# Definir la operacion a aplicar con ambas variables\n",
    "potencia = 1\n",
    "\n",
    "# Definir el rango de la operacion\n",
    "for _ in range(n):\n",
    "  potencia *= x\n",
    "print(\"El numero real \" + str(x) + \" elevado al numero natural \" + str(n) + \" es: \" + str(potencia))"
   ]
  },
  {
   "cell_type": "markdown",
   "metadata": {},
   "source": [
    "### Codigo numero 7\n",
    "\n",
    "- Diseñe un programa que muestre las tablas de multiplicar del 1 al 9."
   ]
  },
  {
   "cell_type": "code",
   "execution_count": null,
   "metadata": {},
   "outputs": [],
   "source": [
    "n = int(input(\"Ingrese el numero natural 1: \"))\n",
    "\n",
    "print(\"La tabla del numero \" +str(n) + \" es: \")\n",
    "for i in range(1, 11):\n",
    "    producto = n*i\n",
    "    print(str(n) + \"x\" + str(i) + \"=\" + str(producto))\n",
    "\n",
    "\n",
    "n = int(input(\"Ingrese el numero natural 2: \"))\n",
    "\n",
    "print(\"La tabla del numero \" +str(n) + \" es: \")\n",
    "for i in range(1, 11):\n",
    "    producto = n*i\n",
    "    print(str(n) + \"x\" + str(i) + \"=\" + str(producto))\n",
    "\n",
    "\n",
    "n = int(input(\"Ingrese el numero natural 3: \"))\n",
    "\n",
    "print(\"La tabla del numero \" +str(n) + \" es: \")\n",
    "for i in range(1, 11):\n",
    "    producto = n*i\n",
    "    print(str(n) + \"x\" + str(i) + \"=\" + str(producto))\n",
    "\n",
    "\n",
    "n = int(input(\"Ingrese el numero natural 4: \"))\n",
    "\n",
    "print(\"La tabla del numero \" +str(n) + \" es: \")\n",
    "for i in range(1, 11):\n",
    "    producto = n*i\n",
    "    print(str(n) + \"x\" + str(i) + \"=\" + str(producto))\n",
    "\n",
    "\n",
    "\n",
    "n = int(input(\"Ingrese el numero natural 5: \"))\n",
    "\n",
    "print(\"La tabla del numero \" +str(n) + \" es: \")\n",
    "for i in range(1, 11):\n",
    "    producto = n*i\n",
    "    print(str(n) + \"x\" + str(i) + \"=\" + str(producto))\n",
    "\n",
    "\n",
    "n = int(input(\"Ingrese el numero natural 6: \"))\n",
    "\n",
    "print(\"La tabla del numero \" +str(n) + \" es: \")\n",
    "for i in range(1, 11):\n",
    "    producto = n*i\n",
    "    print(str(n) + \"x\" + str(i) + \"=\" + str(producto))\n",
    "\n",
    "\n",
    "n = int(input(\"Ingrese el numero natural 7: \"))\n",
    "\n",
    "print(\"La tabla del numero \" +str(n) + \" es: \")\n",
    "for i in range(1, 11):\n",
    "    producto = n*i\n",
    "    print(str(n) + \"x\" + str(i) + \"=\" + str(producto))\n",
    "\n",
    "\n",
    "n = int(input(\"Ingrese el numero natural 8: \"))\n",
    "\n",
    "print(\"La tabla del numero \" +str(n) + \" es: \")\n",
    "for i in range(1, 11):\n",
    "    producto = n*i\n",
    "    print(str(n) + \"x\" + str(i) + \"=\" + str(producto))\n",
    "\n",
    "\n",
    "n = int(input(\"Ingrese el numero natural 9: \"))\n",
    "\n",
    "print(\"La tabla del numero \" +str(n) + \" es: \")\n",
    "for i in range(1, 11):\n",
    "    producto = n*i\n",
    "    print(str(n) + \"x\" + str(i) + \"=\" + str(producto))"
   ]
  }
 ],
 "metadata": {
  "kernelspec": {
   "display_name": "Python 3",
   "language": "python",
   "name": "python3"
  },
  "language_info": {
   "name": "python",
   "version": "3.12.2"
  }
 },
 "nbformat": 4,
 "nbformat_minor": 2
}
